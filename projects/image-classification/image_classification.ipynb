{
 "cells": [
  {
   "cell_type": "markdown",
   "metadata": {
    "collapsed": true
   },
   "source": [
    "# Image Classification\n",
    "In this project, you'll classify images from the [CIFAR-10 dataset](https://www.cs.toronto.edu/~kriz/cifar.html).  The dataset consists of airplanes, dogs, cats, and other objects. You'll preprocess the images, then train a convolutional neural network on all the samples. The images need to be normalized and the labels need to be one-hot encoded.  You'll get to apply what you learned and build a convolutional, max pooling, dropout, and fully connected layers.  At the end, you'll get to see your neural network's predictions on the sample images.\n",
    "## Get the Data\n",
    "Run the following cell to download the [CIFAR-10 dataset for python](https://www.cs.toronto.edu/~kriz/cifar-10-python.tar.gz)."
   ]
  },
  {
   "cell_type": "code",
   "execution_count": 1,
   "metadata": {},
   "outputs": [
    {
     "name": "stdout",
     "output_type": "stream",
     "text": [
      "All files found!\n"
     ]
    }
   ],
   "source": [
    "\"\"\"\n",
    "DON'T MODIFY ANYTHING IN THIS CELL THAT IS BELOW THIS LINE\n",
    "\"\"\"\n",
    "from urllib.request import urlretrieve\n",
    "from os.path import isfile, isdir\n",
    "from tqdm import tqdm\n",
    "import problem_unittests as tests\n",
    "import tarfile\n",
    "\n",
    "cifar10_dataset_folder_path = 'cifar-10-batches-py'\n",
    "\n",
    "class DLProgress(tqdm):\n",
    "    last_block = 0\n",
    "\n",
    "    def hook(self, block_num=1, block_size=1, total_size=None):\n",
    "        self.total = total_size\n",
    "        self.update((block_num - self.last_block) * block_size)\n",
    "        self.last_block = block_num\n",
    "\n",
    "if not isfile('cifar-10-python.tar.gz'):\n",
    "    with DLProgress(unit='B', unit_scale=True, miniters=1, desc='CIFAR-10 Dataset') as pbar:\n",
    "        urlretrieve(\n",
    "            'https://www.cs.toronto.edu/~kriz/cifar-10-python.tar.gz',\n",
    "            'cifar-10-python.tar.gz',\n",
    "            pbar.hook)\n",
    "\n",
    "if not isdir(cifar10_dataset_folder_path):\n",
    "    with tarfile.open('cifar-10-python.tar.gz') as tar:\n",
    "        tar.extractall()\n",
    "        tar.close()\n",
    "\n",
    "\n",
    "tests.test_folder_path(cifar10_dataset_folder_path)"
   ]
  },
  {
   "cell_type": "markdown",
   "metadata": {},
   "source": [
    "## Explore the Data\n",
    "The dataset is broken into batches to prevent your machine from running out of memory.  The CIFAR-10 dataset consists of 5 batches, named `data_batch_1`, `data_batch_2`, etc.. Each batch contains the labels and images that are one of the following:\n",
    "* airplane\n",
    "* automobile\n",
    "* bird\n",
    "* cat\n",
    "* deer\n",
    "* dog\n",
    "* frog\n",
    "* horse\n",
    "* ship\n",
    "* truck\n",
    "\n",
    "Understanding a dataset is part of making predictions on the data.  Play around with the code cell below by changing the `batch_id` and `sample_id`. The `batch_id` is the id for a batch (1-5). The `sample_id` is the id for a image and label pair in the batch.\n",
    "\n",
    "Ask yourself \"What are all possible labels?\", \"What is the range of values for the image data?\", \"Are the labels in order or random?\".  Answers to questions like these will help you preprocess the data and end up with better predictions."
   ]
  },
  {
   "cell_type": "code",
   "execution_count": 2,
   "metadata": {},
   "outputs": [
    {
     "name": "stdout",
     "output_type": "stream",
     "text": [
      "\n",
      "Stats of batch 5:\n",
      "Samples: 10000\n",
      "Label Counts: {0: 1014, 1: 1014, 2: 952, 3: 1016, 4: 997, 5: 1025, 6: 980, 7: 977, 8: 1003, 9: 1022}\n",
      "First 20 Labels: [1, 8, 5, 1, 5, 7, 4, 3, 8, 2, 7, 2, 0, 1, 5, 9, 6, 2, 0, 8]\n",
      "\n",
      "Example of Image 0:\n",
      "Image - Min Value: 2 Max Value: 255\n",
      "Image - Shape: (32, 32, 3)\n",
      "Label - Label Id: 1 Name: automobile\n"
     ]
    },
    {
     "data": {
      "image/png": "iVBORw0KGgoAAAANSUhEUgAAAfoAAAH0CAYAAADVH+85AAAABHNCSVQICAgIfAhkiAAAAAlwSFlz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\nAElFTkSuQmCC\n",
      "text/plain": [
       "<matplotlib.figure.Figure at 0x7fc148677550>"
      ]
     },
     "metadata": {
      "image/png": {
       "height": 250,
       "width": 253
      }
     },
     "output_type": "display_data"
    }
   ],
   "source": [
    "%matplotlib inline\n",
    "%config InlineBackend.figure_format = 'retina'\n",
    "\n",
    "import helper\n",
    "import numpy as np\n",
    "\n",
    "# Explore the dataset\n",
    "batch_id = 5\n",
    "sample_id = 0\n",
    "helper.display_stats(cifar10_dataset_folder_path, batch_id, sample_id)"
   ]
  },
  {
   "cell_type": "markdown",
   "metadata": {},
   "source": [
    "## Implement Preprocess Functions\n",
    "### Normalize\n",
    "In the cell below, implement the `normalize` function to take in image data, `x`, and return it as a normalized Numpy array. The values should be in the range of 0 to 1, inclusive.  The return object should be the same shape as `x`."
   ]
  },
  {
   "cell_type": "code",
   "execution_count": 3,
   "metadata": {},
   "outputs": [
    {
     "name": "stdout",
     "output_type": "stream",
     "text": [
      "Tests Passed\n"
     ]
    }
   ],
   "source": [
    "def normalize(x):\n",
    "    \"\"\"\n",
    "    Normalize a list of sample image data in the range of 0 to 1\n",
    "    : x: List of image data.  The image shape is (32, 32, 3)\n",
    "    : return: Numpy array of normalize data\n",
    "    \"\"\"\n",
    "    return np.array([image/np.max(image) for image in x]).astype(np.float32)\n",
    "\n",
    "\n",
    "\"\"\"\n",
    "DON'T MODIFY ANYTHING IN THIS CELL THAT IS BELOW THIS LINE\n",
    "\"\"\"\n",
    "tests.test_normalize(normalize)"
   ]
  },
  {
   "cell_type": "markdown",
   "metadata": {},
   "source": [
    "### One-hot encode\n",
    "Just like the previous code cell, you'll be implementing a function for preprocessing.  This time, you'll implement the `one_hot_encode` function. The input, `x`, are a list of labels.  Implement the function to return the list of labels as One-Hot encoded Numpy array.  The possible values for labels are 0 to 9. The one-hot encoding function should return the same encoding for each value between each call to `one_hot_encode`.  Make sure to save the map of encodings outside the function.\n",
    "\n",
    "**Hint:**\n",
    "\n",
    "Look into LabelBinarizer in the preprocessing module of sklearn."
   ]
  },
  {
   "cell_type": "code",
   "execution_count": 4,
   "metadata": {},
   "outputs": [
    {
     "name": "stdout",
     "output_type": "stream",
     "text": [
      "Tests Passed\n"
     ]
    }
   ],
   "source": [
    "from sklearn.preprocessing import OneHotEncoder\n",
    "import numpy as np\n",
    "\n",
    "encoder = OneHotEncoder(sparse=False).fit(np.arange(10).reshape(10, 1))\n",
    "\n",
    "def one_hot_encode(x):\n",
    "    \"\"\"\n",
    "    One hot encode a list of sample labels. Return a one-hot encoded vector for each label.\n",
    "    : x: List of sample Labels\n",
    "    : return: Numpy array of one-hot encoded labels\n",
    "    \"\"\"\n",
    "    return encoder.transform(np.array(x).reshape([len(x), 1]))\n",
    "\n",
    "\"\"\"\n",
    "DON'T MODIFY ANYTHING IN THIS CELL THAT IS BELOW THIS LINE\n",
    "\"\"\"\n",
    "tests.test_one_hot_encode(one_hot_encode)"
   ]
  },
  {
   "cell_type": "markdown",
   "metadata": {},
   "source": [
    "### Randomize Data\n",
    "As you saw from exploring the data above, the order of the samples are randomized.  It doesn't hurt to randomize it again, but you don't need to for this dataset."
   ]
  },
  {
   "cell_type": "markdown",
   "metadata": {},
   "source": [
    "## Preprocess all the data and save it\n",
    "Running the code cell below will preprocess all the CIFAR-10 data and save it to file. The code below also uses 10% of the training data for validation."
   ]
  },
  {
   "cell_type": "code",
   "execution_count": 5,
   "metadata": {
    "collapsed": true
   },
   "outputs": [],
   "source": [
    "\"\"\"\n",
    "DON'T MODIFY ANYTHING IN THIS CELL\n",
    "\"\"\"\n",
    "# Preprocess Training, Validation, and Testing Data\n",
    "helper.preprocess_and_save_data(cifar10_dataset_folder_path, normalize, one_hot_encode)"
   ]
  },
  {
   "cell_type": "markdown",
   "metadata": {},
   "source": [
    "# Check Point\n",
    "This is your first checkpoint.  If you ever decide to come back to this notebook or have to restart the notebook, you can start from here.  The preprocessed data has been saved to disk."
   ]
  },
  {
   "cell_type": "code",
   "execution_count": 6,
   "metadata": {
    "collapsed": true
   },
   "outputs": [],
   "source": [
    "\"\"\"\n",
    "DON'T MODIFY ANYTHING IN THIS CELL\n",
    "\"\"\"\n",
    "import pickle\n",
    "import problem_unittests as tests\n",
    "import helper\n",
    "\n",
    "# Load the Preprocessed Validation data\n",
    "valid_features, valid_labels = pickle.load(open('preprocess_validation.p', mode='rb'))"
   ]
  },
  {
   "cell_type": "markdown",
   "metadata": {},
   "source": [
    "## Build the network\n",
    "For the neural network, you'll build each layer into a function.  Most of the code you've seen has been outside of functions. To test your code more thoroughly, we require that you put each layer in a function.  This allows us to give you better feedback and test for simple mistakes using our unittests before you submit your project.\n",
    "\n",
    "**Note:** If you're finding it hard to dedicate enough time for this course each week, we've provided a small shortcut to this part of the project. In the next couple of problems, you'll have the option to use classes from the [TensorFlow Layers](https://www.tensorflow.org/api_docs/python/tf/layers) or [TensorFlow Layers (contrib)](https://www.tensorflow.org/api_guides/python/contrib.layers) packages to build each layer, except the layers you build in the \"Convolutional and Max Pooling Layer\" section.  TF Layers is similar to Keras's and TFLearn's abstraction to layers, so it's easy to pickup.\n",
    "\n",
    "However, if you would like to get the most out of this course, try to solve all the problems _without_ using anything from the TF Layers packages. You **can** still use classes from other packages that happen to have the same name as ones you find in TF Layers! For example, instead of using the TF Layers version of the `conv2d` class, [tf.layers.conv2d](https://www.tensorflow.org/api_docs/python/tf/layers/conv2d), you would want to use the TF Neural Network version of `conv2d`, [tf.nn.conv2d](https://www.tensorflow.org/api_docs/python/tf/nn/conv2d). \n",
    "\n",
    "Let's begin!\n",
    "\n",
    "### Input\n",
    "The neural network needs to read the image data, one-hot encoded labels, and dropout keep probability. Implement the following functions\n",
    "* Implement `neural_net_image_input`\n",
    " * Return a [TF Placeholder](https://www.tensorflow.org/api_docs/python/tf/placeholder)\n",
    " * Set the shape using `image_shape` with batch size set to `None`.\n",
    " * Name the TensorFlow placeholder \"x\" using the TensorFlow `name` parameter in the [TF Placeholder](https://www.tensorflow.org/api_docs/python/tf/placeholder).\n",
    "* Implement `neural_net_label_input`\n",
    " * Return a [TF Placeholder](https://www.tensorflow.org/api_docs/python/tf/placeholder)\n",
    " * Set the shape using `n_classes` with batch size set to `None`.\n",
    " * Name the TensorFlow placeholder \"y\" using the TensorFlow `name` parameter in the [TF Placeholder](https://www.tensorflow.org/api_docs/python/tf/placeholder).\n",
    "* Implement `neural_net_keep_prob_input`\n",
    " * Return a [TF Placeholder](https://www.tensorflow.org/api_docs/python/tf/placeholder) for dropout keep probability.\n",
    " * Name the TensorFlow placeholder \"keep_prob\" using the TensorFlow `name` parameter in the [TF Placeholder](https://www.tensorflow.org/api_docs/python/tf/placeholder).\n",
    "\n",
    "These names will be used at the end of the project to load your saved model.\n",
    "\n",
    "Note: `None` for shapes in TensorFlow allow for a dynamic size."
   ]
  },
  {
   "cell_type": "code",
   "execution_count": 7,
   "metadata": {},
   "outputs": [
    {
     "name": "stdout",
     "output_type": "stream",
     "text": [
      "Image Input Tests Passed.\n",
      "Label Input Tests Passed.\n",
      "Keep Prob Tests Passed.\n"
     ]
    }
   ],
   "source": [
    "import tensorflow as tf\n",
    "\n",
    "def neural_net_image_input(image_shape):\n",
    "    \"\"\"\n",
    "    Return a Tensor for a batch of image input\n",
    "    : image_shape: Shape of the images\n",
    "    : return: Tensor for image input.\n",
    "    \"\"\"\n",
    "    # TODO: Implement Function\n",
    "    return tf.placeholder(dtype=tf.float32, shape=[None, *image_shape], name=\"x\")\n",
    "\n",
    "\n",
    "def neural_net_label_input(n_classes):\n",
    "    \"\"\"\n",
    "    Return a Tensor for a batch of label input\n",
    "    : n_classes: Number of classes\n",
    "    : return: Tensor for label input.\n",
    "    \"\"\"\n",
    "    # TODO: Implement Function\n",
    "    return tf.placeholder(dtype=tf.float32, shape=[None, n_classes], name=\"y\")\n",
    "\n",
    "\n",
    "def neural_net_keep_prob_input():\n",
    "    \"\"\"\n",
    "    Return a Tensor for keep probability\n",
    "    : return: Tensor for keep probability.\n",
    "    \"\"\"\n",
    "    # TODO: Implement Function\n",
    "    return tf.placeholder(dtype=tf.float32, name=\"keep_prob\")\n",
    "\n",
    "\n",
    "\"\"\"\n",
    "DON'T MODIFY ANYTHING IN THIS CELL THAT IS BELOW THIS LINE\n",
    "\"\"\"\n",
    "tf.reset_default_graph()\n",
    "tests.test_nn_image_inputs(neural_net_image_input)\n",
    "tests.test_nn_label_inputs(neural_net_label_input)\n",
    "tests.test_nn_keep_prob_inputs(neural_net_keep_prob_input)"
   ]
  },
  {
   "cell_type": "markdown",
   "metadata": {},
   "source": [
    "### Convolution and Max Pooling Layer\n",
    "Convolution layers have a lot of success with images. For this code cell, you should implement the function `conv2d_maxpool` to apply convolution then max pooling:\n",
    "* Create the weight and bias using `conv_ksize`, `conv_num_outputs` and the shape of `x_tensor`.\n",
    "* Apply a convolution to `x_tensor` using weight and `conv_strides`.\n",
    " * We recommend you use same padding, but you're welcome to use any padding.\n",
    "* Add bias\n",
    "* Add a nonlinear activation to the convolution.\n",
    "* Apply Max Pooling using `pool_ksize` and `pool_strides`.\n",
    " * We recommend you use same padding, but you're welcome to use any padding.\n",
    "\n",
    "**Note:** You **can't** use [TensorFlow Layers](https://www.tensorflow.org/api_docs/python/tf/layers) or [TensorFlow Layers (contrib)](https://www.tensorflow.org/api_guides/python/contrib.layers) for **this** layer, but you can still use TensorFlow's [Neural Network](https://www.tensorflow.org/api_docs/python/tf/nn) package. You may still use the shortcut option for all the **other** layers.\n",
    "\n",
    "** Hint: **\n",
    "\n",
    "When unpacking values as an argument in Python, look into the [unpacking](https://docs.python.org/3/tutorial/controlflow.html#unpacking-argument-lists) operator. "
   ]
  },
  {
   "cell_type": "code",
   "execution_count": 8,
   "metadata": {},
   "outputs": [
    {
     "name": "stdout",
     "output_type": "stream",
     "text": [
      "Tests Passed\n"
     ]
    }
   ],
   "source": [
    "def conv2d(x_tensor, conv_num_outputs, conv_ksize, conv_strides):\n",
    "    n = np.sqrt(2.0/ int(np.product(x_tensor.shape[1:])))\n",
    "    w = tf.Variable(\n",
    "        tf.truncated_normal(\n",
    "            shape=[*conv_ksize, int(x_tensor.shape[3]), conv_num_outputs],\n",
    "            mean=0.0,\n",
    "            stddev=n,\n",
    "            dtype=tf.float32\n",
    "        )\n",
    "    )\n",
    "    b = tf.Variable(\n",
    "        tf.constant(0.001, shape=[conv_num_outputs], dtype=tf.float32)\n",
    "    )\n",
    "    x = tf.nn.conv2d(x_tensor, w, [1, *conv_strides, 1], padding=\"SAME\")\n",
    "    x = tf.nn.bias_add(x, b)\n",
    "    return tf.nn.relu(x)\n",
    "\n",
    "def conv2d_maxpool(x_tensor, conv_num_outputs, conv_ksize, conv_strides, pool_ksize, pool_strides):\n",
    "    \"\"\"\n",
    "    Apply convolution then max pooling to x_tensor\n",
    "    :param x_tensor: TensorFlow Tensor\n",
    "    :param conv_num_outputs: Number of outputs for the convolutional layer\n",
    "    :param conv_ksize: kernal size 2-D Tuple for the convolutional layer\n",
    "    :param conv_strides: Stride 2-D Tuple for convolution\n",
    "    :param pool_ksize: kernal size 2-D Tuple for pool\n",
    "    :param pool_strides: Stride 2-D Tuple for pool\n",
    "    : return: A tensor that represents convolution and max pooling of x_tensor\n",
    "    \"\"\"\n",
    "    x = conv2d(x_tensor, conv_num_outputs, conv_ksize, conv_strides)\n",
    "    return tf.nn.max_pool(x, [1, *pool_ksize, 1], [1, *pool_strides, 1], padding='SAME')\n",
    "\n",
    "\"\"\"\n",
    "DON'T MODIFY ANYTHING IN THIS CELL THAT IS BELOW THIS LINE\n",
    "\"\"\"\n",
    "tests.test_con_pool(conv2d_maxpool)"
   ]
  },
  {
   "cell_type": "markdown",
   "metadata": {},
   "source": [
    "### Flatten Layer\n",
    "Implement the `flatten` function to change the dimension of `x_tensor` from a 4-D tensor to a 2-D tensor.  The output should be the shape (*Batch Size*, *Flattened Image Size*). Shortcut option: you can use classes from the [TensorFlow Layers](https://www.tensorflow.org/api_docs/python/tf/layers) or [TensorFlow Layers (contrib)](https://www.tensorflow.org/api_guides/python/contrib.layers) packages for this layer. For more of a challenge, only use other TensorFlow packages."
   ]
  },
  {
   "cell_type": "code",
   "execution_count": 9,
   "metadata": {},
   "outputs": [
    {
     "name": "stdout",
     "output_type": "stream",
     "text": [
      "Tests Passed\n"
     ]
    }
   ],
   "source": [
    "def flatten(x_tensor):\n",
    "    \"\"\"\n",
    "    Flatten x_tensor to (Batch Size, Flattened Image Size)\n",
    "    : x_tensor: A tensor of size (Batch Size, ...), where ... are the image dimensions.\n",
    "    : return: A tensor of size (Batch Size, Flattened Image Size).\n",
    "    \"\"\"\n",
    "    return tf.reshape(x_tensor, [-1, int(np.prod(x_tensor.shape[1:]))])\n",
    "\n",
    "\n",
    "\"\"\"\n",
    "DON'T MODIFY ANYTHING IN THIS CELL THAT IS BELOW THIS LINE\n",
    "\"\"\"\n",
    "tests.test_flatten(flatten)"
   ]
  },
  {
   "cell_type": "markdown",
   "metadata": {},
   "source": [
    "### Fully-Connected Layer\n",
    "Implement the `fully_conn` function to apply a fully connected layer to `x_tensor` with the shape (*Batch Size*, *num_outputs*). Shortcut option: you can use classes from the [TensorFlow Layers](https://www.tensorflow.org/api_docs/python/tf/layers) or [TensorFlow Layers (contrib)](https://www.tensorflow.org/api_guides/python/contrib.layers) packages for this layer. For more of a challenge, only use other TensorFlow packages."
   ]
  },
  {
   "cell_type": "code",
   "execution_count": 10,
   "metadata": {},
   "outputs": [
    {
     "name": "stdout",
     "output_type": "stream",
     "text": [
      "Tests Passed\n"
     ]
    }
   ],
   "source": [
    "def fully_conn(x_tensor, num_outputs):\n",
    "    \"\"\"\n",
    "    Apply a fully connected layer to x_tensor using weight and bias\n",
    "    : x_tensor: A 2-D tensor where the first dimension is batch size.\n",
    "    : num_outputs: The number of output that the new tensor should be.\n",
    "    : return: A 2-D tensor where the second dimension is num_outputs.\n",
    "    \"\"\"\n",
    "    weights = tf.Variable(\n",
    "        tf.truncated_normal(\n",
    "            [int(x_tensor.shape[1]), num_outputs],\n",
    "            mean=0.0,\n",
    "            stddev=np.sqrt(2.0 / (np.product(int(x_tensor.shape[1]))))\n",
    "        )\n",
    "    )\n",
    "    bias = tf.Variable(tf.constant(0.001, shape=[num_outputs]))\n",
    "    logit = tf.add(tf.matmul(x_tensor, weights), bias)\n",
    "    return tf.nn.relu(logit)\n",
    "\n",
    "\n",
    "\"\"\"\n",
    "DON'T MODIFY ANYTHING IN THIS CELL THAT IS BELOW THIS LINE\n",
    "\"\"\"\n",
    "tests.test_fully_conn(fully_conn)"
   ]
  },
  {
   "cell_type": "markdown",
   "metadata": {},
   "source": [
    "### Output Layer\n",
    "Implement the `output` function to apply a fully connected layer to `x_tensor` with the shape (*Batch Size*, *num_outputs*). Shortcut option: you can use classes from the [TensorFlow Layers](https://www.tensorflow.org/api_docs/python/tf/layers) or [TensorFlow Layers (contrib)](https://www.tensorflow.org/api_guides/python/contrib.layers) packages for this layer. For more of a challenge, only use other TensorFlow packages.\n",
    "\n",
    "**Note:** Activation, softmax, or cross entropy should **not** be applied to this."
   ]
  },
  {
   "cell_type": "code",
   "execution_count": 11,
   "metadata": {},
   "outputs": [
    {
     "name": "stdout",
     "output_type": "stream",
     "text": [
      "Tests Passed\n"
     ]
    }
   ],
   "source": [
    "def output(x_tensor, num_outputs):\n",
    "    \"\"\"\n",
    "    Apply a output layer to x_tensor using weight and bias\n",
    "    : x_tensor: A 2-D tensor where the first dimension is batch size.\n",
    "    : num_outputs: The number of output that the new tensor should be.\n",
    "    : return: A 2-D tensor where the second dimension is num_outputs.\n",
    "    \"\"\"\n",
    "    weights = tf.Variable(tf.truncated_normal([int(x_tensor.shape[1]), num_outputs]))\n",
    "    bias = tf.Variable(tf.truncated_normal([num_outputs]))\n",
    "    return tf.add(tf.matmul(x_tensor, weights), bias)\n",
    "\n",
    "\n",
    "\"\"\"\n",
    "DON'T MODIFY ANYTHING IN THIS CELL THAT IS BELOW THIS LINE\n",
    "\"\"\"\n",
    "tests.test_output(output)"
   ]
  },
  {
   "cell_type": "markdown",
   "metadata": {},
   "source": [
    "### Create Convolutional Model\n",
    "Implement the function `conv_net` to create a convolutional neural network model. The function takes in a batch of images, `x`, and outputs logits.  Use the layers you created above to create this model:\n",
    "\n",
    "* Apply 1, 2, or 3 Convolution and Max Pool layers\n",
    "* Apply a Flatten Layer\n",
    "* Apply 1, 2, or 3 Fully Connected Layers\n",
    "* Apply an Output Layer\n",
    "* Return the output\n",
    "* Apply [TensorFlow's Dropout](https://www.tensorflow.org/api_docs/python/tf/nn/dropout) to one or more layers in the model using `keep_prob`. "
   ]
  },
  {
   "cell_type": "code",
   "execution_count": 12,
   "metadata": {},
   "outputs": [
    {
     "name": "stdout",
     "output_type": "stream",
     "text": [
      "Neural Network Built!\n"
     ]
    }
   ],
   "source": [
    "def conv_net(x, keep_prob):\n",
    "    \"\"\"\n",
    "    Create a convolutional neural network model\n",
    "    : x: Placeholder tensor that holds image data.\n",
    "    : keep_prob: Placeholder tensor that hold dropout keep probability.\n",
    "    : return: Tensor that represents logits\n",
    "    \"\"\"\n",
    "    # TODO: Apply 1, 2, or 3 Convolution and Max Pool layers\n",
    "    #    Play around with different number of outputs, kernel size and stride\n",
    "    # Function Definition from Above:\n",
    "    #    conv2d_maxpool(x_tensor, conv_num_outputs, conv_ksize, conv_strides, pool_ksize, pool_strides)\n",
    "\n",
    "    x = conv2d_maxpool(x, 128, [3, 3], [1, 1], [2, 2], [1, 1])\n",
    "    x = conv2d_maxpool(x, 256, [3, 3], [1, 1], [2, 2], [1, 1])\n",
    "\n",
    "    \n",
    "    # TODO: Apply a Flatten Layer\n",
    "    # Function Definition from Above:\n",
    "    #   flatten(x_tensor)\n",
    "    x = flatten(x)\n",
    "\n",
    "    # TODO: Apply 1, 2, or 3 Fully Connected Layers\n",
    "    #    Play around with different number of outputs\n",
    "    # Function Definition from Above:\n",
    "    #   fully_conn(x_tensor, num_outputs)\n",
    "    x = fully_conn(x, 128)\n",
    "    x = fully_conn(x, 64)\n",
    "    \n",
    "    # TODO: Apply an Output Layer\n",
    "    #    Set this to the number of classes\n",
    "    # Function Definition from Above:\n",
    "    #   output(x_tensor, num_outputs)\n",
    "    x = tf.nn.dropout(x, keep_prob)\n",
    "    x = output(x, 10)\n",
    "    \n",
    "    # TODO: return output\n",
    "    return x\n",
    "\n",
    "\n",
    "\"\"\"\n",
    "DON'T MODIFY ANYTHING IN THIS CELL THAT IS BELOW THIS LINE\n",
    "\"\"\"\n",
    "\n",
    "##############################\n",
    "## Build the Neural Network ##\n",
    "##############################\n",
    "\n",
    "# Remove previous weights, bias, inputs, etc..\n",
    "tf.reset_default_graph()\n",
    "\n",
    "# Inputs\n",
    "x = neural_net_image_input((32, 32, 3))\n",
    "y = neural_net_label_input(10)\n",
    "keep_prob = neural_net_keep_prob_input()\n",
    "\n",
    "# Model\n",
    "logits = conv_net(x, keep_prob)\n",
    "\n",
    "# Name logits Tensor, so that is can be loaded from disk after training\n",
    "logits = tf.identity(logits, name='logits')\n",
    "\n",
    "# Loss and Optimizer\n",
    "cost = tf.reduce_mean(tf.nn.softmax_cross_entropy_with_logits(logits=logits, labels=y))\n",
    "\n",
    "optimizer = tf.train.AdamOptimizer().minimize(cost)\n",
    "\n",
    "# Accuracy\n",
    "correct_pred = tf.equal(tf.argmax(logits, 1), tf.argmax(y, 1))\n",
    "accuracy = tf.reduce_mean(tf.cast(correct_pred, tf.float32), name='accuracy')\n",
    "\n",
    "tests.test_conv_net(conv_net)"
   ]
  },
  {
   "cell_type": "markdown",
   "metadata": {},
   "source": [
    "##### Train the Neural Network\n",
    "### Single Optimization\n",
    "Implement the function `train_neural_network` to do a single optimization.  The optimization should use `optimizer` to optimize in `session` with a `feed_dict` of the following:\n",
    "* `x` for image input\n",
    "* `y` for labels\n",
    "* `keep_prob` for keep probability for dropout\n",
    "\n",
    "This function will be called for each batch, so `tf.global_variables_initializer()` has already been called.\n",
    "\n",
    "Note: Nothing needs to be returned. This function is only optimizing the neural network."
   ]
  },
  {
   "cell_type": "code",
   "execution_count": 13,
   "metadata": {},
   "outputs": [
    {
     "name": "stdout",
     "output_type": "stream",
     "text": [
      "Tests Passed\n"
     ]
    }
   ],
   "source": [
    "def train_neural_network(session, optimizer, keep_probability, feature_batch, label_batch):\n",
    "    \"\"\"\n",
    "    Optimize the session on a batch of images and labels\n",
    "    : session: Current TensorFlow session\n",
    "    : optimizer: TensorFlow optimizer function\n",
    "    : keep_probability: keep probability\n",
    "    : feature_batch: Batch of Numpy image data\n",
    "    : label_batch: Batch of Numpy label data\n",
    "    \"\"\"\n",
    "    session.run(optimizer, feed_dict={\n",
    "                x: feature_batch.astype(np.float32),\n",
    "                y: label_batch.astype(np.float32),\n",
    "                keep_prob: keep_probability})\n",
    "\n",
    "\"\"\"\n",
    "DON'T MODIFY ANYTHING IN THIS CELL THAT IS BELOW THIS LINE\n",
    "\"\"\"\n",
    "tests.test_train_nn(train_neural_network)"
   ]
  },
  {
   "cell_type": "markdown",
   "metadata": {},
   "source": [
    "### Show Stats\n",
    "Implement the function `print_stats` to print loss and validation accuracy.  Use the global variables `valid_features` and `valid_labels` to calculate validation accuracy.  Use a keep probability of `1.0` to calculate the loss and validation accuracy."
   ]
  },
  {
   "cell_type": "code",
   "execution_count": 14,
   "metadata": {
    "collapsed": true
   },
   "outputs": [],
   "source": [
    "def print_stats(session, feature_batch, label_batch, cost, accuracy):\n",
    "    \"\"\"\n",
    "    Print information about loss and validation accuracy\n",
    "    : session: Current TensorFlow session\n",
    "    : feature_batch: Batch of Numpy image data\n",
    "    : label_batch: Batch of Numpy label data\n",
    "    : cost: TensorFlow cost function\n",
    "    : accuracy: TensorFlow accuracy function\n",
    "    \"\"\"\n",
    "    accuracy = session.run(accuracy, feed_dict={\n",
    "        x: valid_features, \n",
    "        y: valid_labels, \n",
    "        keep_prob:1.0\n",
    "    })\n",
    "    cost = session.run(cost, feed_dict={\n",
    "        x: valid_features, \n",
    "        y: valid_labels, \n",
    "        keep_prob:1.0\n",
    "    })\n",
    "    print(\"... Accuracy {:2.2f} ... Cost {:2.2f}\".format(accuracy, cost))"
   ]
  },
  {
   "cell_type": "markdown",
   "metadata": {},
   "source": [
    "### Hyperparameters\n",
    "Tune the following parameters:\n",
    "* Set `epochs` to the number of iterations until the network stops learning or start overfitting\n",
    "* Set `batch_size` to the highest number that your machine has memory for.  Most people set them to common sizes of memory:\n",
    " * 64\n",
    " * 128\n",
    " * 256\n",
    " * ...\n",
    "* Set `keep_probability` to the probability of keeping a node using dropout"
   ]
  },
  {
   "cell_type": "code",
   "execution_count": 15,
   "metadata": {
    "collapsed": true
   },
   "outputs": [],
   "source": [
    "# TODO: Tune Parameters\n",
    "epochs = 10\n",
    "batch_size = 256\n",
    "keep_probability = 0.8"
   ]
  },
  {
   "cell_type": "markdown",
   "metadata": {},
   "source": [
    "### Train on a Single CIFAR-10 Batch\n",
    "Instead of training the neural network on all the CIFAR-10 batches of data, let's use a single batch. This should save time while you iterate on the model to get a better accuracy.  Once the final validation accuracy is 50% or greater, run the model on all the data in the next section."
   ]
  },
  {
   "cell_type": "code",
<<<<<<< HEAD
   "execution_count": 37,
   "metadata": {
    "collapsed": false
   },
=======
   "execution_count": 16,
   "metadata": {},
>>>>>>> 67a168e822b442d77925da62ccf5ac7a68020e58
   "outputs": [
    {
     "name": "stdout",
     "output_type": "stream",
     "text": [
      "Checking the Training on a Single Batch...\n",
<<<<<<< HEAD
      "Epoch  1, CIFAR-10 Batch 1:  Epoch  2, CIFAR-10 Batch 1:  Epoch  3, CIFAR-10 Batch 1:  "
=======
      "Epoch  1 - Batch 1... Accuracy 0.17 ... Cost 2.23\n",
      "Epoch  2 - Batch 1... Accuracy 0.33 ... Cost 1.89\n",
      "Epoch  3 - Batch 1... Accuracy 0.37 ... Cost 1.77\n",
      "Epoch  4 - Batch 1... Accuracy 0.43 ... Cost 1.60\n",
      "Epoch  5 - Batch 1... Accuracy 0.44 ... Cost 1.59\n",
      "Epoch  6 - Batch 1... Accuracy 0.50 ... Cost 1.42\n",
      "Epoch  7 - Batch 1... Accuracy 0.49 ... Cost 1.46\n",
      "Epoch  8 - Batch 1... Accuracy 0.52 ... Cost 1.39\n",
      "Epoch  9 - Batch 1... Accuracy 0.51 ... Cost 1.41\n",
      "Epoch 10 - Batch 1... Accuracy 0.52 ... Cost 1.40\n"
>>>>>>> 67a168e822b442d77925da62ccf5ac7a68020e58
     ]
    }
   ],
   "source": [
    "\"\"\"\n",
    "DON'T MODIFY ANYTHING IN THIS CELL\n",
    "\"\"\"\n",
    "print('Checking the Training on a Single Batch...')\n",
    "with tf.Session() as sess:\n",
    "    # Initializing the variables\n",
    "    sess.run(tf.global_variables_initializer())\n",
    "    \n",
    "    # Training cycle\n",
    "    for epoch in range(epochs):\n",
    "        batch_i = 1\n",
    "        for batch_features, batch_labels in helper.load_preprocess_training_batch(batch_i, batch_size):\n",
    "            train_neural_network(sess, optimizer, keep_probability, batch_features, batch_labels)\n",
    "        print('Epoch {:>2} - Batch {}'.format(epoch + 1, batch_i), end=\"\")\n",
    "        print_stats(sess, batch_features, batch_labels, cost, accuracy)"
   ]
  },
  {
   "cell_type": "markdown",
   "metadata": {},
   "source": [
    "### Fully Train the Model\n",
    "Now that you got a good accuracy with a single CIFAR-10 batch, try it with all five batches."
   ]
  },
  {
   "cell_type": "code",
   "execution_count": 17,
   "metadata": {},
   "outputs": [
    {
     "name": "stdout",
     "output_type": "stream",
     "text": [
      "Training...\n",
      "Epoch  1 - Batch 1... Accuracy 0.16 ... Cost 2.25\n",
      "Epoch  1 - Batch 2... Accuracy 0.30 ... Cost 1.96\n",
      "Epoch  1 - Batch 3... Accuracy 0.37 ... Cost 1.76\n",
      "Epoch  1 - Batch 4... Accuracy 0.42 ... Cost 1.65\n",
      "Epoch  1 - Batch 5... Accuracy 0.43 ... Cost 1.59\n",
      "Epoch  2 - Batch 1... Accuracy 0.42 ... Cost 1.60\n",
      "Epoch  2 - Batch 2... Accuracy 0.44 ... Cost 1.52\n",
      "Epoch  2 - Batch 3... Accuracy 0.44 ... Cost 1.54\n",
      "Epoch  2 - Batch 4... Accuracy 0.46 ... Cost 1.48\n",
      "Epoch  2 - Batch 5... Accuracy 0.48 ... Cost 1.44\n",
      "Epoch  3 - Batch 1... Accuracy 0.47 ... Cost 1.47\n",
      "Epoch  3 - Batch 2... Accuracy 0.46 ... Cost 1.46\n",
      "Epoch  3 - Batch 3... Accuracy 0.48 ... Cost 1.43\n",
      "Epoch  3 - Batch 4... Accuracy 0.47 ... Cost 1.46\n",
      "Epoch  3 - Batch 5... Accuracy 0.49 ... Cost 1.40\n",
      "Epoch  4 - Batch 1... Accuracy 0.49 ... Cost 1.42\n",
      "Epoch  4 - Batch 2... Accuracy 0.50 ... Cost 1.37\n",
      "Epoch  4 - Batch 3... Accuracy 0.49 ... Cost 1.39\n",
      "Epoch  4 - Batch 4... Accuracy 0.48 ... Cost 1.47\n",
      "Epoch  4 - Batch 5... Accuracy 0.49 ... Cost 1.42\n",
      "Epoch  5 - Batch 1... Accuracy 0.52 ... Cost 1.35\n",
      "Epoch  5 - Batch 2... Accuracy 0.51 ... Cost 1.34\n",
      "Epoch  5 - Batch 3... Accuracy 0.52 ... Cost 1.33\n",
      "Epoch  5 - Batch 4... Accuracy 0.53 ... Cost 1.31\n",
      "Epoch  5 - Batch 5... Accuracy 0.52 ... Cost 1.37\n",
      "Epoch  6 - Batch 1... Accuracy 0.53 ... Cost 1.34\n",
      "Epoch  6 - Batch 2... Accuracy 0.51 ... Cost 1.37\n",
      "Epoch  6 - Batch 3... Accuracy 0.52 ... Cost 1.34\n",
      "Epoch  6 - Batch 4... Accuracy 0.56 ... Cost 1.25\n",
      "Epoch  6 - Batch 5... Accuracy 0.53 ... Cost 1.36\n",
      "Epoch  7 - Batch 1... Accuracy 0.57 ... Cost 1.22\n",
      "Epoch  7 - Batch 2... Accuracy 0.51 ... Cost 1.39\n",
      "Epoch  7 - Batch 3... Accuracy 0.54 ... Cost 1.30\n",
      "Epoch  7 - Batch 4... Accuracy 0.57 ... Cost 1.20\n",
      "Epoch  7 - Batch 5... Accuracy 0.55 ... Cost 1.29\n",
      "Epoch  8 - Batch 1... Accuracy 0.56 ... Cost 1.23\n",
      "Epoch  8 - Batch 2... Accuracy 0.55 ... Cost 1.26\n",
      "Epoch  8 - Batch 3... Accuracy 0.56 ... Cost 1.25\n",
      "Epoch  8 - Batch 4... Accuracy 0.57 ... Cost 1.21\n",
      "Epoch  8 - Batch 5... Accuracy 0.57 ... Cost 1.21\n",
      "Epoch  9 - Batch 1... Accuracy 0.56 ... Cost 1.23\n",
      "Epoch  9 - Batch 2... Accuracy 0.58 ... Cost 1.19\n",
      "Epoch  9 - Batch 3... Accuracy 0.57 ... Cost 1.21\n",
      "Epoch  9 - Batch 4... Accuracy 0.58 ... Cost 1.19\n",
      "Epoch  9 - Batch 5... Accuracy 0.57 ... Cost 1.23\n",
      "Epoch 10 - Batch 1... Accuracy 0.56 ... Cost 1.25\n",
      "Epoch 10 - Batch 2... Accuracy 0.58 ... Cost 1.21\n",
      "Epoch 10 - Batch 3... Accuracy 0.57 ... Cost 1.25\n",
      "Epoch 10 - Batch 4... Accuracy 0.58 ... Cost 1.22\n",
      "Epoch 10 - Batch 5... Accuracy 0.57 ... Cost 1.23\n"
     ]
    }
   ],
   "source": [
    "\"\"\"\n",
    "DON'T MODIFY ANYTHING IN THIS CELL\n",
    "\"\"\"\n",
    "save_model_path = './image_classification'\n",
    "\n",
    "print('Training...')\n",
    "with tf.Session() as sess:\n",
    "    # Initializing the variables\n",
    "    sess.run(tf.global_variables_initializer())\n",
    "    \n",
    "    # Training cycle\n",
    "    for epoch in range(epochs):\n",
    "        # Loop over all batches\n",
    "        n_batches = 5\n",
    "        for batch_i in range(1, n_batches + 1):\n",
    "            for batch_features, batch_labels in helper.load_preprocess_training_batch(batch_i, batch_size):\n",
    "                train_neural_network(sess, optimizer, keep_probability, batch_features, batch_labels)\n",
    "            print('Epoch {:>2} - Batch {}'.format(epoch + 1, batch_i), end=\"\")\n",
    "            print_stats(sess, batch_features, batch_labels, cost, accuracy)\n",
    "            \n",
    "    # Save Model\n",
    "    saver = tf.train.Saver()\n",
    "    save_path = saver.save(sess, save_model_path)"
   ]
  },
  {
   "cell_type": "markdown",
   "metadata": {},
   "source": [
    "# Checkpoint\n",
    "The model has been saved to disk.\n",
    "## Test Model\n",
    "Test your model against the test dataset.  This will be your final accuracy. You should have an accuracy greater than 50%. If you don't, keep tweaking the model architecture and parameters."
   ]
  },
  {
   "cell_type": "code",
   "execution_count": 18,
   "metadata": {},
   "outputs": [
    {
     "name": "stdout",
     "output_type": "stream",
     "text": [
      "INFO:tensorflow:Restoring parameters from ./image_classification\n",
      "Testing Accuracy: 0.57060546875\n",
      "\n"
     ]
    },
    {
     "data": {
      "image/png": "iVBORw0KGgoAAAANSUhEUgAAAscAAAJ/CAYAAACUb342AAAABHNCSVQICAgIfAhkiAAAAAlwSFlz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\n",
      "text/plain": [
       "<matplotlib.figure.Figure at 0x7fc13c5c1dd8>"
      ]
     },
     "metadata": {
      "image/png": {
       "height": 319,
       "width": 355
      }
     },
     "output_type": "display_data"
    }
   ],
   "source": [
    "\"\"\"\n",
    "DON'T MODIFY ANYTHING IN THIS CELL\n",
    "\"\"\"\n",
    "%matplotlib inline\n",
    "%config InlineBackend.figure_format = 'retina'\n",
    "\n",
    "import tensorflow as tf\n",
    "import pickle\n",
    "import helper\n",
    "import random\n",
    "\n",
    "# Set batch size if not already set\n",
    "try:\n",
    "    if batch_size:\n",
    "        pass\n",
    "except NameError:\n",
    "    batch_size = 64\n",
    "\n",
    "save_model_path = './image_classification'\n",
    "n_samples = 4\n",
    "top_n_predictions = 3\n",
    "\n",
    "def test_model():\n",
    "    \"\"\"\n",
    "    Test the saved model against the test dataset\n",
    "    \"\"\"\n",
    "\n",
    "    test_features, test_labels = pickle.load(open('preprocess_training.p', mode='rb'))\n",
    "    loaded_graph = tf.Graph()\n",
    "\n",
    "    with tf.Session(graph=loaded_graph) as sess:\n",
    "        # Load model\n",
    "        loader = tf.train.import_meta_graph(save_model_path + '.meta')\n",
    "        loader.restore(sess, save_model_path)\n",
    "\n",
    "        # Get Tensors from loaded model\n",
    "        loaded_x = loaded_graph.get_tensor_by_name('x:0')\n",
    "        loaded_y = loaded_graph.get_tensor_by_name('y:0')\n",
    "        loaded_keep_prob = loaded_graph.get_tensor_by_name('keep_prob:0')\n",
    "        loaded_logits = loaded_graph.get_tensor_by_name('logits:0')\n",
    "        loaded_acc = loaded_graph.get_tensor_by_name('accuracy:0')\n",
    "        \n",
    "        # Get accuracy in batches for memory limitations\n",
    "        test_batch_acc_total = 0\n",
    "        test_batch_count = 0\n",
    "        \n",
    "        for train_feature_batch, train_label_batch in helper.batch_features_labels(test_features, test_labels, batch_size):\n",
    "            test_batch_acc_total += sess.run(\n",
    "                loaded_acc,\n",
    "                feed_dict={loaded_x: train_feature_batch, loaded_y: train_label_batch, loaded_keep_prob: 1.0})\n",
    "            test_batch_count += 1\n",
    "\n",
    "        print('Testing Accuracy: {}\\n'.format(test_batch_acc_total/test_batch_count))\n",
    "\n",
    "        # Print Random Samples\n",
    "        random_test_features, random_test_labels = tuple(zip(*random.sample(list(zip(test_features, test_labels)), n_samples)))\n",
    "        random_test_predictions = sess.run(\n",
    "            tf.nn.top_k(tf.nn.softmax(loaded_logits), top_n_predictions),\n",
    "            feed_dict={loaded_x: random_test_features, loaded_y: random_test_labels, loaded_keep_prob: 1.0})\n",
    "        helper.display_image_predictions(random_test_features, random_test_labels, random_test_predictions)\n",
    "\n",
    "\n",
    "test_model()"
   ]
  },
  {
   "cell_type": "markdown",
   "metadata": {},
   "source": [
    "## Why 50-80% Accuracy?\n",
    "You might be wondering why you can't get an accuracy any higher. First things first, 50% isn't bad for a simple CNN.  Pure guessing would get you 10% accuracy. That's because there are many more techniques that can be applied to your model and we recemmond that once you are done with this project, you explore!\n",
    "\n",
    "## Submitting This Project\n",
    "When submitting this project, make sure to run all the cells before saving the notebook.  Save the notebook file as \"image_classification.ipynb\" and save it as a HTML file under \"File\" -> \"Download as\".  Include the \"helper.py\" and \"problem_unittests.py\" files in your submission."
   ]
  }
 ],
 "metadata": {
  "kernelspec": {
   "display_name": "Python 3",
   "language": "python",
   "name": "python3"
  },
  "language_info": {
   "codemirror_mode": {
    "name": "ipython",
    "version": 3
   },
   "file_extension": ".py",
   "mimetype": "text/x-python",
   "name": "python",
   "nbconvert_exporter": "python",
   "pygments_lexer": "ipython3",
   "version": "3.6.0"
  }
 },
 "nbformat": 4,
 "nbformat_minor": 1
}
